{
  "nbformat": 4,
  "nbformat_minor": 0,
  "metadata": {
    "colab": {
      "provenance": [],
      "authorship_tag": "ABX9TyM4TsZrPyc54WSvmmYhR4JY",
      "include_colab_link": true
    },
    "kernelspec": {
      "name": "python3",
      "display_name": "Python 3"
    },
    "language_info": {
      "name": "python"
    }
  },
  "cells": [
    {
      "cell_type": "markdown",
      "metadata": {
        "id": "view-in-github",
        "colab_type": "text"
      },
      "source": [
        "<a href=\"https://colab.research.google.com/github/PepiMartin28/ETL-Project/blob/main/TableCreation.ipynb\" target=\"_parent\"><img src=\"https://colab.research.google.com/assets/colab-badge.svg\" alt=\"Open In Colab\"/></a>"
      ]
    },
    {
      "cell_type": "markdown",
      "source": [
        "#This is a notebook where we create the table in the database"
      ],
      "metadata": {
        "id": "2Ot0m19itEsa"
      }
    },
    {
      "cell_type": "code",
      "source": [
        "# pip install mysql-connector-python"
      ],
      "metadata": {
        "id": "ecIBKNBKKLFn"
      },
      "execution_count": null,
      "outputs": []
    },
    {
      "cell_type": "code",
      "source": [
        "import mysql.connector"
      ],
      "metadata": {
        "id": "9_hBVk46KBRC"
      },
      "execution_count": null,
      "outputs": []
    },
    {
      "cell_type": "code",
      "source": [
        "conexion = mysql.connector.connect(\n",
        "    host='us-cdbr-east-06.cleardb.net',\n",
        "    user='b59176a577f953',\n",
        "    password='1ecab0e5',\n",
        "    database='heroku_0112fbf8f733ea4'\n",
        ")"
      ],
      "metadata": {
        "id": "JZzcpQt3KFrL"
      },
      "execution_count": null,
      "outputs": []
    },
    {
      "cell_type": "code",
      "source": [
        "cursor = conexion.cursor()"
      ],
      "metadata": {
        "id": "v3PxuKyIN7vG"
      },
      "execution_count": null,
      "outputs": []
    },
    {
      "cell_type": "code",
      "source": [
        "cursor.execute('''\n",
        "  CREATE TABLE IF NOT EXISTS team_stats (\n",
        "    league_id INTEGER,\n",
        "    league_name VARCHAR(100),\n",
        "    season VARCHAR(50),\n",
        "    id INTEGER,\n",
        "    name VARCHAR(100),\n",
        "    matches_played INTEGER,\n",
        "    wins INTEGER,\n",
        "    draws INTEGER,\n",
        "    losses INTEGER,\n",
        "    season_points INTEGER,\n",
        "    goals_scored INTEGER,\n",
        "    goals_scored_per_90 FLOAT,\n",
        "    shots_on_target INTEGER,\n",
        "    shots_on_target_per_90 FLOAT,\n",
        "    goals_against INTEGER,\n",
        "    goals_against_per_90 FLOAT,\n",
        "    shots_against INTEGER,\n",
        "    shots_against_per_90 FLOAT,\n",
        "    goal_diff INTEGER,\n",
        "    clean_sheets INTEGER,\n",
        "    yellow_cards INTEGER,\n",
        "    red_cards INTEGER\n",
        "  )\n",
        "''')"
      ],
      "metadata": {
        "id": "sFRANAKKPIKm"
      },
      "execution_count": null,
      "outputs": []
    }
  ]
}