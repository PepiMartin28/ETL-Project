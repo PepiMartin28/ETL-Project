{
  "nbformat": 4,
  "nbformat_minor": 0,
  "metadata": {
    "colab": {
      "provenance": [],
      "mount_file_id": "1qKE585RrQzKg1nGtV6DqH7kOUF_ZoZBU",
      "authorship_tag": "ABX9TyMXrOkrQI1cOaODSfidLilt",
      "include_colab_link": true
    },
    "kernelspec": {
      "name": "python3",
      "display_name": "Python 3"
    },
    "language_info": {
      "name": "python"
    }
  },
  "cells": [
    {
      "cell_type": "markdown",
      "metadata": {
        "id": "view-in-github",
        "colab_type": "text"
      },
      "source": [
        "<a href=\"https://colab.research.google.com/github/PepiMartin28/ETL-Project/blob/main/Extraction.ipynb\" target=\"_parent\"><img src=\"https://colab.research.google.com/assets/colab-badge.svg\" alt=\"Open In Colab\"/></a>"
      ]
    },
    {
      "cell_type": "markdown",
      "source": [
        "#In this notebook we are going to extract the data from the page \"https://fbref.com/\". We will work with the first five European leagues from the 2000-2001 season onwards,"
      ],
      "metadata": {
        "id": "YBK94qWurMWI"
      }
    },
    {
      "cell_type": "markdown",
      "source": [
        "###First import the necesaries modules"
      ],
      "metadata": {
        "id": "bmJ8OZUhheSO"
      }
    },
    {
      "cell_type": "code",
      "execution_count": null,
      "metadata": {
        "id": "kr0ahusct5_P"
      },
      "outputs": [],
      "source": [
        "import pandas as pd\n",
        "import csv\n",
        "import time"
      ]
    },
    {
      "cell_type": "markdown",
      "source": [
        "###Lets create the csv file where the data is stored for now."
      ],
      "metadata": {
        "id": "oULokxI5r9fJ"
      }
    },
    {
      "cell_type": "code",
      "source": [
        "columns_csv = ['league_id', 'league_name', 'season', 'id', 'name', 'matches_played', 'wins', 'draws', 'losses', 'season_points',\n",
        "               'goals_scored', 'shots_on_target', 'goals_against', 'shots_against', 'goal_diff', 'clean_sheets', 'yellow_cards', 'red_cards']\n",
        "\n",
        "with open('/content/drive/MyDrive/Proyectos/ETL/data.csv', 'w') as csv_file:\n",
        "  writer = csv.writer(csv_file)\n",
        "  writer.writerow(columns_csv)"
      ],
      "metadata": {
        "id": "BU8hVlALXuEV"
      },
      "execution_count": null,
      "outputs": []
    },
    {
      "cell_type": "markdown",
      "source": [
        "The next command is the process to extract the data. We use the \"time.sleep(10)\" function to stop the process for 10 seconds to avoid being blocked from the page for 1 hour.\n",
        "\n",
        "We are using the next columns:\n",
        "\n",
        "* league_id\n",
        "* league_name\n",
        "* season\n",
        "* id\n",
        "* name (team name)\n",
        "* matches_played (matches played in this season)\n",
        "* wins (matches won in this season)\n",
        "* draws (matches drawn in this season)\n",
        "* losses (matches lost in this season)\n",
        "* season_points (points obtained in this season)\n",
        "* goals_scored (goals scored in this season)\n",
        "* shots_on_target (shots made in this season)\n",
        "* goals_against (goals received in this season)\n",
        "* shots_against (shots received in this season)\n",
        "* goal_diff (difference between goals_scored and goals_against)\n",
        "* clean_sheets (clean sheets made in this season)\n",
        "* yellow_cards (yellow cards received this season)\n",
        "* red_cards (red cards received this season)"
      ],
      "metadata": {
        "id": "uJq9xZpFsa0e"
      }
    },
    {
      "cell_type": "code",
      "source": [
        "leagues = ['Premier-League', 'La-Liga', 'Serie-A', 'Ligue-1', 'Bundesliga']\n",
        "leagues_id = [9, 12, 11, 13, 20]\n",
        "id_counter = 0\n",
        "loaded_teams = {}\n",
        "rows = []\n",
        "\n",
        "for idx in range(5):\n",
        "  for season in range(2000, 2023):\n",
        "    try:\n",
        "      querie = pd.read_html(f'https://fbref.com/en/comps/{leagues_id[idx]}/{season}-{season+1}/Estadisticas-{season}-{season+1}-{leagues[idx]}')\n",
        "    except:\n",
        "      continue\n",
        "\n",
        "    df_season = querie[0]\n",
        "    df_stats = querie[2]\n",
        "    df_stats.columns = df_stats.columns.droplevel(0)\n",
        "    df_additional_stats = querie[4]\n",
        "    df_additional_stats.columns = df_additional_stats.columns.droplevel(0)\n",
        "    df_shots_stats = querie[6]\n",
        "    if season >= 2017:\n",
        "      df_shots_stats = querie[8]\n",
        "    df_shots_stats.columns = df_shots_stats.columns.droplevel(0)\n",
        "\n",
        "    teams = [team for team in df_season['Squad'].values]\n",
        "\n",
        "    for team in teams:\n",
        "      df_team_season = df_season[df_season['Squad'] == team]\n",
        "      df_team_stats = df_stats[df_stats['Squad'] == team]\n",
        "      df_team_additional_stats = df_additional_stats[df_additional_stats['Squad'] == team]\n",
        "      df_team_shots_stats = df_shots_stats[df_shots_stats['Squad'] == team]\n",
        "\n",
        "      try:\n",
        "        team_id = loaded_teams[team]\n",
        "      except:\n",
        "        loaded_teams[team] = id_counter\n",
        "        team_id = id_counter\n",
        "\n",
        "      rows.append([leagues_id[idx], leagues[idx].replace(\"-\", \" \"), f'{season}-{season+1}', team_id, team,\n",
        "                   df_team_season['MP'].values[0], df_team_season['W'].values[0], df_team_season['D'].values[0], df_team_season['L'].values[0],\n",
        "                   df_team_season['Pts'].values[0], df_team_season['GF'].values[0], df_team_shots_stats['SoT'].values[0],\n",
        "                   df_team_season['GA'].values[0], df_team_additional_stats['SoTA'].values[0],\n",
        "                   df_team_season['GF'].values[0] - df_team_season['GA'].values[0],\n",
        "                   df_team_additional_stats['CS'].values[0], df_team_stats['CrdY'].values[0], df_team_stats['CrdR'].values[0]])\n",
        "\n",
        "      id_counter += 1\n",
        "\n",
        "    time.sleep(5)\n",
        "\n",
        "with open('/content/drive/MyDrive/Proyectos/ETL/data.csv', 'a') as csv_file:\n",
        "  writer = csv.writer(csv_file)\n",
        "  for row in rows:\n",
        "    writer.writerow(row)"
      ],
      "metadata": {
        "id": "9laMNksi1Y0q"
      },
      "execution_count": null,
      "outputs": []
    }
  ]
}